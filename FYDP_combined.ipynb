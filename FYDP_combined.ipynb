{
 "cells": [
  {
   "cell_type": "markdown",
   "metadata": {},
   "source": [
    "# Table of Contents"
   ]
  },
  {
   "cell_type": "markdown",
   "metadata": {},
   "source": [
    "1. [Data Import & Manipulation](#1.-Data-Import-&-Manipulation) \n",
    "    1. [Fuel Output & Demand Data](#A.-Fuel-Output-&-Demand-Data)\n",
    "    2. [HOEP Data](#B.-HOEP-Data)\n",
    "    3. [NG Production & Demand Data](#C.-NG-Production-&-Demand-Data)\n",
    "    4. [Transportation Demand Data](#D.-Transportation-Demand-Data)\n",
    "    5. [Industry Demand Data](#E.-Industry-Demand-Data)\n",
    "    6. [Emission Factor Calculation](#F.-Emission-Factor-Calculation)\n",
    "    7. [Input-Data-to-MILP](#G.-Input-Data-to-MILP)\n",
    "2. [Mixed Integer Linear Programming](#2.-Mixed-Integer-Linear-Programming)"
   ]
  },
  {
   "cell_type": "markdown",
   "metadata": {},
   "source": [
    "# Libraries"
   ]
  },
  {
   "cell_type": "code",
   "execution_count": null,
   "metadata": {},
   "outputs": [],
   "source": [
    "import pandas as pd"
   ]
  },
  {
   "cell_type": "markdown",
   "metadata": {},
   "source": [
    "# Variables "
   ]
  },
  {
   "cell_type": "code",
   "execution_count": null,
   "metadata": {},
   "outputs": [],
   "source": [
    "raw=pd.read_csv('Variables.csv')\n",
    "raw2=raw.dropna(axis='columns',how='all')\n",
    "var=raw2.dropna(axis='rows',how='all')\n",
    "var.set_index(\"variable_name\",inplace=True)"
   ]
  },
  {
   "cell_type": "code",
   "execution_count": null,
   "metadata": {},
   "outputs": [],
   "source": [
    "var"
   ]
  },
  {
   "cell_type": "markdown",
   "metadata": {},
   "source": [
    "# 1. Data Import & Manipuation"
   ]
  },
  {
   "cell_type": "markdown",
   "metadata": {},
   "source": [
    "## A. Fuel Output & Demand Data"
   ]
  },
  {
   "cell_type": "markdown",
   "metadata": {},
   "source": [
    "Fuel output by sources (i.e. nuclear, gas, hydro)"
   ]
  },
  {
   "cell_type": "code",
   "execution_count": null,
   "metadata": {},
   "outputs": [],
   "source": [
    "fuel_output = pd.read_csv('on_fuel_source_output_2017.csv', keep_default_na=False, na_values=[\"\"])"
   ]
  },
  {
   "cell_type": "markdown",
   "metadata": {},
   "source": [
    "Fuel demand in Onatrio "
   ]
  },
  {
   "cell_type": "code",
   "execution_count": null,
   "metadata": {},
   "outputs": [],
   "source": [
    "fuel_demand = pd.read_csv('on_demand_2017.csv', keep_default_na=False, na_values=[\"\"])"
   ]
  },
  {
   "cell_type": "code",
   "execution_count": null,
   "metadata": {},
   "outputs": [],
   "source": [
    "fuel_output.head()"
   ]
  },
  {
   "cell_type": "markdown",
   "metadata": {},
   "source": [
    "subtract 1 hour because we want 0 to 23 hr "
   ]
  },
  {
   "cell_type": "code",
   "execution_count": null,
   "metadata": {},
   "outputs": [],
   "source": [
    "fuel_output['Hour'] = fuel_output['Hour'] - 1"
   ]
  },
  {
   "cell_type": "code",
   "execution_count": null,
   "metadata": {},
   "outputs": [],
   "source": [
    "fuel_output.head()"
   ]
  },
  {
   "cell_type": "code",
   "execution_count": null,
   "metadata": {},
   "outputs": [],
   "source": [
    "fuel_demand.head()"
   ]
  },
  {
   "cell_type": "code",
   "execution_count": null,
   "metadata": {},
   "outputs": [],
   "source": [
    "fuel_demand['Hour'] = fuel_demand['Hour'] -1"
   ]
  },
  {
   "cell_type": "code",
   "execution_count": null,
   "metadata": {
    "scrolled": true
   },
   "outputs": [],
   "source": [
    "fuel_demand.head()"
   ]
  },
  {
   "cell_type": "markdown",
   "metadata": {},
   "source": [
    "Create Datetime columns in both df"
   ]
  },
  {
   "cell_type": "code",
   "execution_count": null,
   "metadata": {},
   "outputs": [],
   "source": [
    "fuel_output['Datetime'] = pd.to_datetime(fuel_output['Date']) + pd.to_timedelta(fuel_output['Hour'], unit='h')"
   ]
  },
  {
   "cell_type": "code",
   "execution_count": null,
   "metadata": {},
   "outputs": [],
   "source": [
    "fuel_output.head()"
   ]
  },
  {
   "cell_type": "code",
   "execution_count": null,
   "metadata": {},
   "outputs": [],
   "source": [
    "fuel_demand['Datetime'] = pd.to_datetime(fuel_demand['Date']) + pd.to_timedelta(fuel_demand['Hour'], unit='h')"
   ]
  },
  {
   "cell_type": "code",
   "execution_count": null,
   "metadata": {},
   "outputs": [],
   "source": [
    "fuel_demand.head()"
   ]
  },
  {
   "cell_type": "markdown",
   "metadata": {},
   "source": [
    "Groupby Datetime"
   ]
  },
  {
   "cell_type": "code",
   "execution_count": null,
   "metadata": {},
   "outputs": [],
   "source": [
    "fuel_output_total = pd.DataFrame(fuel_output.groupby('Datetime')['Output'].sum())\n",
    "fuel_output_total.columns = ['fuel_total']"
   ]
  },
  {
   "cell_type": "code",
   "execution_count": null,
   "metadata": {},
   "outputs": [],
   "source": [
    "fuel_output_total.head()"
   ]
  },
  {
   "cell_type": "markdown",
   "metadata": {},
   "source": [
    "Set index using Datetime"
   ]
  },
  {
   "cell_type": "code",
   "execution_count": null,
   "metadata": {},
   "outputs": [],
   "source": [
    "fuel_demand.set_index('Datetime',inplace=True)"
   ]
  },
  {
   "cell_type": "code",
   "execution_count": null,
   "metadata": {},
   "outputs": [],
   "source": [
    "fuel_demand.head()"
   ]
  },
  {
   "cell_type": "markdown",
   "metadata": {},
   "source": [
    "Create SBG data by joining the two data and taking the difference"
   ]
  },
  {
   "cell_type": "code",
   "execution_count": null,
   "metadata": {},
   "outputs": [],
   "source": [
    "SBG = pd.merge(fuel_output_total[['fuel_total']],fuel_demand[['Ontario Demand']], how='inner',left_index=True, right_index=True)"
   ]
  },
  {
   "cell_type": "code",
   "execution_count": null,
   "metadata": {},
   "outputs": [],
   "source": [
    "SBG.head()"
   ]
  },
  {
   "cell_type": "code",
   "execution_count": null,
   "metadata": {},
   "outputs": [],
   "source": [
    "SBG['Difference'] = SBG['fuel_total'] - SBG['Ontario Demand']"
   ]
  },
  {
   "cell_type": "code",
   "execution_count": null,
   "metadata": {},
   "outputs": [],
   "source": [
    "SBG.head()"
   ]
  },
  {
   "cell_type": "markdown",
   "metadata": {},
   "source": [
    "Check if there's any cell with difference less than 0"
   ]
  },
  {
   "cell_type": "code",
   "execution_count": null,
   "metadata": {},
   "outputs": [],
   "source": [
    "SBG[SBG['Difference']<0].count()"
   ]
  },
  {
   "cell_type": "markdown",
   "metadata": {},
   "source": [
    "Assign negative numbers with 0's "
   ]
  },
  {
   "cell_type": "code",
   "execution_count": null,
   "metadata": {},
   "outputs": [],
   "source": [
    "SBG.loc[SBG['Difference']<=0,'Difference'] = 0"
   ]
  },
  {
   "cell_type": "code",
   "execution_count": null,
   "metadata": {},
   "outputs": [],
   "source": [
    "SBG[SBG['Difference']<0].count()"
   ]
  },
  {
   "cell_type": "markdown",
   "metadata": {},
   "source": [
    "Convert SBG MWh to KWh"
   ]
  },
  {
   "cell_type": "code",
   "execution_count": null,
   "metadata": {},
   "outputs": [],
   "source": [
    "SBG['Difference'] = SBG['Difference']*1000"
   ]
  },
  {
   "cell_type": "markdown",
   "metadata": {},
   "source": [
    "Export the SBG data to a csv file"
   ]
  },
  {
   "cell_type": "code",
   "execution_count": null,
   "metadata": {
    "scrolled": true
   },
   "outputs": [],
   "source": [
    "SBG.columns = ['fuel_output','fuel_demand','SBG(kWh)']"
   ]
  },
  {
   "cell_type": "code",
   "execution_count": null,
   "metadata": {},
   "outputs": [],
   "source": [
    "SBG.head()"
   ]
  },
  {
   "cell_type": "markdown",
   "metadata": {},
   "source": [
    "## B. HOEP Data"
   ]
  },
  {
   "cell_type": "markdown",
   "metadata": {},
   "source": [
    "HOEP values are reported as $/Mwh"
   ]
  },
  {
   "cell_type": "code",
   "execution_count": null,
   "metadata": {},
   "outputs": [],
   "source": [
    "hoep_data = pd.read_csv('HOEP_2017.csv', keep_default_na=False, na_values=[\"\"])"
   ]
  },
  {
   "cell_type": "code",
   "execution_count": null,
   "metadata": {},
   "outputs": [],
   "source": [
    "hoep_data.head()"
   ]
  },
  {
   "cell_type": "code",
   "execution_count": null,
   "metadata": {},
   "outputs": [],
   "source": [
    "hoep_data['Hour'] = hoep_data['Hour'] -1"
   ]
  },
  {
   "cell_type": "code",
   "execution_count": null,
   "metadata": {},
   "outputs": [],
   "source": [
    "hoep_data['Datetime'] = pd.to_datetime(hoep_data['Date']) + pd.to_timedelta(hoep_data['Hour'], unit='h')"
   ]
  },
  {
   "cell_type": "code",
   "execution_count": null,
   "metadata": {},
   "outputs": [],
   "source": [
    "hoep_data.head()"
   ]
  },
  {
   "cell_type": "code",
   "execution_count": null,
   "metadata": {},
   "outputs": [],
   "source": [
    "hoep_data.set_index('Datetime',inplace=True)"
   ]
  },
  {
   "cell_type": "code",
   "execution_count": null,
   "metadata": {},
   "outputs": [],
   "source": [
    "hoep_data.head(10)"
   ]
  },
  {
   "cell_type": "markdown",
   "metadata": {},
   "source": [
    "HOEP data is dollar/Mwh so need to convert to dollar/kWh"
   ]
  },
  {
   "cell_type": "code",
   "execution_count": null,
   "metadata": {},
   "outputs": [],
   "source": [
    "hoep_data['HOEP']= hoep_data['HOEP']/1000"
   ]
  },
  {
   "cell_type": "code",
   "execution_count": null,
   "metadata": {},
   "outputs": [],
   "source": [
    "input_df = pd.merge(SBG[['SBG(kWh)']],hoep_data[['HOEP']], how='inner',left_index=True, right_index=True)"
   ]
  },
  {
   "cell_type": "code",
   "execution_count": null,
   "metadata": {
    "scrolled": true
   },
   "outputs": [],
   "source": [
    "input_df.head(10)"
   ]
  },
  {
   "cell_type": "markdown",
   "metadata": {},
   "source": [
    "## C. NG Production & Demand Data"
   ]
  },
  {
   "cell_type": "code",
   "execution_count": null,
   "metadata": {},
   "outputs": [],
   "source": [
    "NG_hourly_distribution = pd.read_csv('NG_hourly_distribution.csv')"
   ]
  },
  {
   "cell_type": "code",
   "execution_count": null,
   "metadata": {
    "scrolled": true
   },
   "outputs": [],
   "source": [
    "NG_hourly_distribution.head()"
   ]
  },
  {
   "cell_type": "code",
   "execution_count": null,
   "metadata": {},
   "outputs": [],
   "source": [
    "NG_hourly_distribution['ratio'] = NG_hourly_distribution['hourly_distribution']/sum(NG_hourly_distribution['hourly_distribution'])"
   ]
  },
  {
   "cell_type": "code",
   "execution_count": null,
   "metadata": {},
   "outputs": [],
   "source": [
    "NG_hourly_distribution['hour'] = NG_hourly_distribution['hour']-1"
   ]
  },
  {
   "cell_type": "code",
   "execution_count": null,
   "metadata": {},
   "outputs": [],
   "source": [
    "NG_hourly_distribution.head()"
   ]
  },
  {
   "cell_type": "code",
   "execution_count": null,
   "metadata": {},
   "outputs": [],
   "source": [
    "NG_monthly_production = pd.read_csv('NG_monthly_production.csv')"
   ]
  },
  {
   "cell_type": "code",
   "execution_count": null,
   "metadata": {},
   "outputs": [],
   "source": [
    "NG_monthly_production.head()"
   ]
  },
  {
   "cell_type": "code",
   "execution_count": null,
   "metadata": {
    "scrolled": true
   },
   "outputs": [],
   "source": [
    "input_df['NG_demand(m^3)'] = 0\n",
    "input_df['NG_demand(m^3)'] = input_df['NG_demand(m^3)'].astype(float)\n",
    "input_df.head()"
   ]
  },
  {
   "cell_type": "markdown",
   "metadata": {},
   "source": [
    "NG demand calculation"
   ]
  },
  {
   "cell_type": "code",
   "execution_count": null,
   "metadata": {
    "scrolled": true
   },
   "outputs": [],
   "source": [
    "for index, row in input_df.iterrows():\n",
    "   \n",
    "    curr_hour = index.hour\n",
    "    curr_month = index.month \n",
    "    ratio = NG_hourly_distribution[NG_hourly_distribution['hour']==curr_hour]['ratio'].iloc[0]\n",
    "    NG_prod = NG_monthly_production[NG_monthly_production['month']==curr_month]['NG_production(e3m3/d)'].iloc[0]\n",
    "  \n",
    "    input_df.loc[index,'NG_demand(m^3)'] = (ratio * NG_prod).round(3)*1000\n",
    "    "
   ]
  },
  {
   "cell_type": "code",
   "execution_count": null,
   "metadata": {},
   "outputs": [],
   "source": [
    "input_df.head()"
   ]
  },
  {
   "cell_type": "markdown",
   "metadata": {},
   "source": [
    "## D. Transportation Demand Data"
   ]
  },
  {
   "cell_type": "code",
   "execution_count": null,
   "metadata": {},
   "outputs": [],
   "source": [
    "mobility_hourly_distribution = pd.read_csv('mobility_hourly_distribution.csv')"
   ]
  },
  {
   "cell_type": "code",
   "execution_count": null,
   "metadata": {},
   "outputs": [],
   "source": [
    "mobility_hourly_distribution.head()"
   ]
  },
  {
   "cell_type": "code",
   "execution_count": null,
   "metadata": {},
   "outputs": [],
   "source": [
    "mobility_hourly_distribution['hour'] = mobility_hourly_distribution['hour'] -1"
   ]
  },
  {
   "cell_type": "code",
   "execution_count": null,
   "metadata": {},
   "outputs": [],
   "source": [
    "mobility_hourly_distribution.head()"
   ]
  },
  {
   "cell_type": "markdown",
   "metadata": {},
   "source": [
    "264000 kg demand * 1m^3/0.0899kg H2 "
   ]
  },
  {
   "cell_type": "code",
   "execution_count": null,
   "metadata": {},
   "outputs": [],
   "source": [
    "mobility_hourly_distribution['demand(m^3)'] = mobility_hourly_distribution['% of daily demand'] / 100 * 264000 /0.0899"
   ]
  },
  {
   "cell_type": "code",
   "execution_count": null,
   "metadata": {},
   "outputs": [],
   "source": [
    "mobility_hourly_distribution.head()"
   ]
  },
  {
   "cell_type": "markdown",
   "metadata": {},
   "source": [
    "Weekly profile according to Azadeh's workbook"
   ]
  },
  {
   "cell_type": "code",
   "execution_count": null,
   "metadata": {},
   "outputs": [],
   "source": [
    "# weekday number 6= Sunday, 0 = Monday,... 5 = Saturday \n",
    "week_profile_dict = {'weekday': [6,0,1,2,3,4,5],\n",
    "         'factor': [101,94,96,100,105,108,96]}\n",
    "week_profile_df = pd.DataFrame.from_dict(week_profile_dict)\n",
    "week_profile_df['factor_fraction'] = week_profile_df['factor']/100\n",
    "week_profile_df"
   ]
  },
  {
   "cell_type": "code",
   "execution_count": null,
   "metadata": {},
   "outputs": [],
   "source": [
    "input_df['mobility_demand(m^3)'] = 0\n",
    "input_df['mobility_demand(m^3)'] = input_df['mobility_demand(m^3)'].astype(float)\n",
    "input_df.head()"
   ]
  },
  {
   "cell_type": "code",
   "execution_count": null,
   "metadata": {},
   "outputs": [],
   "source": [
    "for index, row in input_df.iterrows():\n",
    "    curr_weekday = index.weekday()\n",
    "    curr_hour = index.hour \n",
    "    week_factor = week_profile_df[week_profile_df['weekday']==curr_weekday]['factor_fraction'].iloc[0]\n",
    "    mob_demand = mobility_hourly_distribution[mobility_hourly_distribution['hour']==curr_hour]['demand(m^3)'].iloc[0]\n",
    "    input_df.loc[index,'mobility_demand(m^3)'] = mob_demand * week_factor "
   ]
  },
  {
   "cell_type": "code",
   "execution_count": null,
   "metadata": {},
   "outputs": [],
   "source": [
    "input_df.head()"
   ]
  },
  {
   "cell_type": "markdown",
   "metadata": {},
   "source": [
    "## E. Industry Demand Data"
   ]
  },
  {
   "cell_type": "markdown",
   "metadata": {},
   "source": [
    "Total industry production capacity (MSm^3/day)"
   ]
  },
  {
   "cell_type": "code",
   "execution_count": null,
   "metadata": {},
   "outputs": [],
   "source": [
    "total_daily_production = 6.3 #MSm^3/day"
   ]
  },
  {
   "cell_type": "code",
   "execution_count": null,
   "metadata": {},
   "outputs": [],
   "source": [
    "total_yearly_production = total_daily_production * 365\n",
    "\n",
    "print(total_yearly_production)"
   ]
  },
  {
   "cell_type": "markdown",
   "metadata": {},
   "source": [
    "Industry demand monthly according to the paper "
   ]
  },
  {
   "cell_type": "code",
   "execution_count": null,
   "metadata": {},
   "outputs": [],
   "source": [
    "ind_demand_dic = {'month': [1,2,3,4,5,6,7,8,9,10,11,12],\n",
    "         'monthly_demand_hydrogen[kg]': [3.2,2.7,2.4,2.1,2,1.8,1.7,2,2.1,2.7,3,3.3]\n",
    "         }\n",
    "monthly_hydrogen_demand = pd.DataFrame.from_dict(ind_demand_dic)\n",
    "total_hydrogen_demand = monthly_hydrogen_demand['monthly_demand_hydrogen[kg]'].sum()\n",
    "monthly_hydrogen_demand['percentage'] = monthly_hydrogen_demand['monthly_demand_hydrogen[kg]']/total_hydrogen_demand\n",
    "monthly_hydrogen_demand['production_capacity[m^3/day]'] = total_yearly_production * monthly_hydrogen_demand['percentage'] * (10**6)\n",
    "monthly_hydrogen_demand"
   ]
  },
  {
   "cell_type": "markdown",
   "metadata": {},
   "source": [
    "Creating '0' cells for hourly industry demands"
   ]
  },
  {
   "cell_type": "code",
   "execution_count": null,
   "metadata": {
    "scrolled": true
   },
   "outputs": [],
   "source": [
    "input_df['industry_demand(m^3)'] = 0\n",
    "input_df['industry_demand(m^3)'] = input_df['industry_demand(m^3)'].astype(float)\n",
    "input_df.head()"
   ]
  },
  {
   "cell_type": "markdown",
   "metadata": {},
   "source": [
    "number of days in each month"
   ]
  },
  {
   "cell_type": "code",
   "execution_count": null,
   "metadata": {
    "scrolled": true
   },
   "outputs": [],
   "source": [
    "num_days_dic = {'month': [1,2,3,4,5,6,7,8,9,10,11,12],\n",
    "         'number_of_days': [31,28,31,30,31,30,31,31,30,31,30,31]}\n",
    "num_days_df = pd.DataFrame.from_dict(num_days_dic)\n",
    "num_days_df"
   ]
  },
  {
   "cell_type": "markdown",
   "metadata": {},
   "source": [
    "Create hourly profile for industry demand "
   ]
  },
  {
   "cell_type": "code",
   "execution_count": null,
   "metadata": {
    "scrolled": true
   },
   "outputs": [],
   "source": [
    "for index, row in input_df.iterrows():\n",
    "    curr_month = index.month \n",
    "    num_days = num_days_df[num_days_df['month']==curr_month]['number_of_days'].iloc[0]\n",
    "    ind_prod = monthly_hydrogen_demand[monthly_hydrogen_demand['month']==curr_month]['production_capacity[m^3/day]'].iloc[0]\n",
    "    input_df.loc[index,'industry_demand(m^3)'] = ind_prod / (num_days * 24) * 0.05"
   ]
  },
  {
   "cell_type": "code",
   "execution_count": null,
   "metadata": {
    "scrolled": false
   },
   "outputs": [],
   "source": [
    "input_df.head()"
   ]
  },
  {
   "cell_type": "markdown",
   "metadata": {},
   "source": [
    "## F. Emission Factor Calculation"
   ]
  },
  {
   "cell_type": "code",
   "execution_count": null,
   "metadata": {},
   "outputs": [],
   "source": [
    "#EMF(tonne/kWh)\n",
    "\n",
    "emission_factor = fuel_output.copy()\n",
    "emission_factor['Emission'] = 0\n",
    "emission_factor['Emission'] = emission_factor['Emission'].astype(float)\n",
    "emission_factor.head()\n",
    "\n",
    "\n",
    "#all in kgCO2/MWh \n",
    "EMF_nuclear = 17 \n",
    "EMF_gas = 622\n",
    "EMF_hydro = 18\n",
    "EMF_wind = 14\n",
    "EMF_solar = 39\n",
    "EMF_biofuel = 177\n",
    "\n",
    "\n",
    "for index, row in emission_factor.iterrows():\n",
    "    fuel_type = row['Fuel']\n",
    "    \n",
    "    if fuel_type == 'NUCLEAR':\n",
    "        EMF = EMF_nuclear\n",
    "    elif fuel_type == 'GAS':\n",
    "        EMF = EMF_gas\n",
    "    elif fuel_type == 'HYDRO':\n",
    "        EMF = EMF_hydro\n",
    "    elif fuel_type == 'BIOFUEL':\n",
    "        EMF = EMF_biofuel\n",
    "    elif fuel_type == 'SOLAR':\n",
    "        EMF = EMF_solar\n",
    "    else:\n",
    "        EMF = EMF_wind\n",
    "        \n",
    "    emission_factor.loc[index,'Emission'] = EMF * emission_factor.loc[index,'Output']\n",
    "\n",
    "emission_factor.head()\n",
    "\n",
    "emission_factor_agg = pd.DataFrame(emission_factor.groupby('Datetime').agg({'Emission':'sum','Output':'sum'}))\n",
    "\n",
    "emission_factor_agg['EMF(kgCO2/MWh)'] = emission_factor_agg['Emission'] / emission_factor_agg['Output'] \n",
    "emission_factor_agg['EMF(tonne/kWh)'] = emission_factor_agg['EMF(kgCO2/MWh)'] / 1000 / 1000 #unit conversion 1tonne/1000kg, 1MW/1000kW\n",
    "emission_factor_agg.head()"
   ]
  },
  {
   "cell_type": "code",
   "execution_count": null,
   "metadata": {},
   "outputs": [],
   "source": [
    "input_df = pd.merge(input_df,emission_factor_agg[['EMF(tonne/kWh)']], how='inner',left_index=True, right_index=True)\n",
    "input_df.head()"
   ]
  },
  {
   "cell_type": "markdown",
   "metadata": {},
   "source": [
    "## G. Input Data to MILP"
   ]
  },
  {
   "cell_type": "code",
   "execution_count": null,
   "metadata": {},
   "outputs": [],
   "source": [
    "input_df.head(10)"
   ]
  },
  {
   "cell_type": "code",
   "execution_count": null,
   "metadata": {},
   "outputs": [],
   "source": [
    "input_df.reset_index(inplace=True)\n",
    "input_df.head(10)"
   ]
  },
  {
   "cell_type": "markdown",
   "metadata": {},
   "source": [
    "# 2. Mixed Integer Linear Programming"
   ]
  },
  {
   "cell_type": "markdown",
   "metadata": {},
   "source": [
    "Numbering variables \n",
    "<br>\n",
    "1. RNG <br>\n",
    "2. HENG <br>\n",
    "3. Transportation <br>\n",
    "4. Industry"
   ]
  },
  {
   "cell_type": "code",
   "execution_count": null,
   "metadata": {},
   "outputs": [],
   "source": [
    "\"\"\"\n",
    "Combined model (RNG+HENG+Mobility+Industry)\n",
    "\"\"\"\n",
    "\n",
    "import pulp\n",
    "from numpy import count_nonzero\n",
    "\n",
    "# Time-series constants\n",
    "SBG = list(input_df['SBG(kWh)'])\n",
    "NG_demand = list(input_df['NG_demand(m^3)'])\n",
    "mobility_demand = list(input_df['mobility_demand(m^3)'])\n",
    "industry_demand = list(input_df['industry_demand(m^3)']) # 5% of actual demand\n",
    "HOEP = list(input_df['HOEP'])\n",
    "EMF = list(input_df['EMF(tonne/kWh)'])\n",
    "\n",
    "# Electrolyzer and flow constants\n",
    "N_max = 30000\n",
    "N_max += 1\n",
    "nu_electrolyzer = var['value']['electrolyzer_eff']\n",
    "E_HHV_H2 = var['value']['E_hhv_h2'] # kwh/m^3\n",
    "nu_reactor = var['value']['meth_reactor_eff']\n",
    "HHV_H2 = var['value']['HHV_H2'] # MMBtu/kmol\n",
    "HHV_NG = var['value']['HHV_NG'] # MMBtu/kmol\n",
    "CO2_available_total = var['value']['CO2_total'] # m^3/year\n",
    "CO2_available = float(CO2_available_total) / count_nonzero(SBG)\n",
    "E_electrolyzer_min = var['value']['min_E_cap'] # kwh\n",
    "E_electrolyzer_max = var['value']['max_E_cap'] # kwh\n",
    "tau = 0.50\n",
    "\n",
    "# Emission constants\n",
    "EMF_NG = var['value']['EMF_NG'] # tonne CO2/m^3 H2\n",
    "EMF_comb = var['value']['EMF_combRNG'] # tonne CO2/m^3 RNG\n",
    "EMF_bio = var['value']['EMF_bioCO2'] # tonne CO2/kWh\n",
    "EMF_electrolyzer = var['value']['EMF_electrolyzer'] # tonne CO2/m^3 H2\n",
    "EMF_reactor = var['value']['EMF_reactor'] # tonne CO2/m^3 RNG\n",
    "EMF_vehicle = var['value']['emission_gasoline_v'] # tonne CO2/car/year\n",
    "num_vehicle = var['value']['N_gasoline_v']\n",
    "FCV_penetration = var['value']['FCV_penetration'] # FCV market penetration (estimated)\n",
    "EMF_SMR = var['value']['EMF_SMR'] # kg CO2/kmol of H2\n",
    "\n",
    "# Electrolyzer and flow cost\n",
    "beta = var['value']['beta']\n",
    "C_0 = var['value']['C_0'] # $/kW\n",
    "mu = var['value']['mu']\n",
    "gamma = var['value']['gamma']\n",
    "k = var['value']['k'] # $\n",
    "C_upgrading = var['value']['C_upgrading'] # $/m^3 reactor capacity\n",
    "C_CO2 = var['value']['C_CO2'] # $/m^3 CO2\n",
    "TC = var['value']['TC'] # $/kWh\n",
    "C_H2O = var['value']['C_H2O'] # $/L\n",
    "WCR = var['value']['water_cons_rate'] # L H2O/m^3 H2\n",
    "OPEX_upgrading = var['value']['OPEX_upgrading'] # $/m^3 reactor capacity\n",
    "TVM = var['value']['TVM']\n",
    "\n",
    "# Tank and compressor constants\n",
    "I_max = var['value']['Imax'] # kmol\n",
    "I_min= var['value']['Imin'] # kmol\n",
    "F_max_booster = var['value']['Fmax_booster'] # kmol\n",
    "F_max_prestorage =var['value']['Fmax_prestorage'] # kmol\n",
    "\n",
    "CAPEX_booster = var['value']['CAPEX_booster'] # $\n",
    "CAPEX_prestorage = var['value']['CAPEX_prestorage'] # $\n",
    "CAPEX_tank = var['value']['CAPEX_tank'] # $\n",
    "\n",
    "ECF_prestorage = var['value']['ECF_prestorage'] # kWh/kmol H2\n",
    "\n",
    "z_booster = var['value']['z_booster'] # compressibility factor for booster compressor\n",
    "R = var['value']['R'] # kJ/kmolK\n",
    "T = var['value']['T'] # K\n",
    "comp_efficiency = var['value']['comp_efficiency']  # isentropic compressor efficiency\n",
    "heat_cap_ratio = var['value']['heat_cap_ratio'] # heat capacaity ratio of hydrogen\n",
    "P_in_booster = var['value']['P_in_booster'] # inlet pressure of booster compressor\n",
    "P_out_booster = var['value']['P_out_booster'] # outlet pressure of booster compressor\n",
    "N_stage_booster = var['value']['N_stage_booster']\n",
    "\n",
    "ECF_booster = z_booster * R * T * N_stage_booster / comp_efficiency * \\\n",
    "              heat_cap_ratio / (heat_cap_ratio - 1) * \\\n",
    "              (((P_out_booster / P_in_booster) ** ((heat_cap_ratio - 1) / N_stage_booster / heat_cap_ratio ))-1) \\\n",
    "              / 3600 # converting kJ to kWh ECF booster in kWh/kmol\n",
    "\n",
    "# Converting the tank and compressor constants to m^3\n",
    "MW_H2 = var['value']['MW_H2'] # kg/kmol H2\n",
    "density_H2 = var['value']['density_H2'] # kg/m^3\n",
    "\n",
    "I_max = I_max * MW_H2 / density_H2 # m^3\n",
    "I_min = I_min * MW_H2 / density_H2 # m^3\n",
    "F_max_booster = F_max_booster * MW_H2 / density_H2 # m^3\n",
    "F_max_prestorage = F_max_prestorage * MW_H2 / density_H2 # m^3\n",
    "\n",
    "ECF_booster = ECF_booster / MW_H2 * density_H2 # kWh/m^3\n",
    "ECF_prestorage = ECF_prestorage / MW_H2 * density_H2 # kWh/m^3\n",
    "EMF_SMR = EMF_SMR * 0.001 / MW_H2 * density_H2 # tonne CO2/m^3 of H2\n",
    "\n",
    "\"\"\"LP\"\"\"\n",
    "# Maximize emission offset\n",
    "LP_eps = pulp.LpProblem('LP_eps', pulp.LpMaximize)\n",
    "\n",
    "# Minimize cost\n",
    "LP_cost = pulp.LpProblem('LP_cost', pulp.LpMinimize)\n",
    "\n",
    "\"\"\"RNG\"\"\"\n",
    "# Max RNG flow (m^3/h)\n",
    "RNG_max = pulp.LpVariable('RNG_max',\n",
    "                          lowBound=0,\n",
    "                          cat='Continuous')\n",
    "# H2 flow to RNG (m^3/h)\n",
    "H2_1 = pulp.LpVariable.dicts('H2_1',\n",
    "                          [str(i) for i in input_df.index],\n",
    "                          lowBound=0,\n",
    "                          cat='Continuous')\n",
    "# RNG flow (m^3/h)\n",
    "RNG = pulp.LpVariable.dicts('RNG',\n",
    "                          [str(i) for i in input_df.index],\n",
    "                          lowBound=0,\n",
    "                          cat='Continuous')\n",
    "# CO2 flow (m^3/h)\n",
    "CO2 = pulp.LpVariable.dicts('CO2',\n",
    "                          [str(i) for i in input_df.index],\n",
    "                          lowBound=0,\n",
    "                          cat='Continuous')\n",
    "# 0 if RNG_max = 0, 1 otherwise\n",
    "alpha_RNG = pulp.LpVariable('alpha_RNG',\n",
    "                          cat='Binary')\n",
    "\n",
    "\"\"\"HENG\"\"\"\n",
    "# H2 flow to HENG (m^3/h)\n",
    "H2_2 = pulp.LpVariable.dicts('H2_2',\n",
    "                          [str(i) for i in input_df.index],\n",
    "                          lowBound=0,\n",
    "                          cat='Continuous')\n",
    "\n",
    "\"\"\"Mobility\"\"\"\n",
    "# H2 flow to mobility fuel (m^3/h)\n",
    "H2_3 = pulp.LpVariable.dicts('H2_3',\n",
    "                          [str(i) for i in input_df.index],\n",
    "                          lowBound=0,\n",
    "                          cat='Continuous')\n",
    "\n",
    "\"\"\"Industry\"\"\"\n",
    "# H2 flow to industry feed (m^3/h)\n",
    "H2_4 = pulp.LpVariable.dicts('H2_4',\n",
    "                          [str(i) for i in input_df.index],\n",
    "                          lowBound=0,\n",
    "                          cat='Continuous')\n",
    "\n",
    "\"\"\"Shared\"\"\"\n",
    "# Number of booster compressors\n",
    "N_booster = pulp.LpVariable('N_booster',\n",
    "                          lowBound=0,\n",
    "                          cat='Integer')\n",
    "# Number of prestorage compressors\n",
    "N_prestorage = pulp.LpVariable('N_prestorage',\n",
    "                          lowBound=0,\n",
    "                          cat='Integer')\n",
    "# Number of tanks\n",
    "N_tank = pulp.LpVariable('N_tank',\n",
    "                          lowBound=0,\n",
    "                          cat='Integer')\n",
    "# H2 flow directly from electrolyzers (m^3/h)\n",
    "H2_direct = pulp.LpVariable.dicts('H2_direct',\n",
    "                          [str(i) for i in input_df.index],\n",
    "                          lowBound=0,\n",
    "                          cat='Continuous')\n",
    "# H2 flow going into tanks from electrolyzers (m^3/h)\n",
    "H2_tank_in = pulp.LpVariable.dicts('H2_tank_in',\n",
    "                          [str(i) for i in input_df.index],\n",
    "                          lowBound=0,\n",
    "                          cat='Continuous')\n",
    "# H2 flow coming out from tanks (m^3/h)\n",
    "H2_tank_out = pulp.LpVariable.dicts('H2_tank_out',\n",
    "                          [str(i) for i in input_df.index],\n",
    "                          lowBound=0,\n",
    "                          cat='Continuous')\n",
    "# Total SBG usage (kWh)\n",
    "E = pulp.LpVariable.dicts('E',\n",
    "                          [str(i) for i in input_df.index],\n",
    "                          lowBound=0,\n",
    "                          cat='Continuous')\n",
    "# Inventory level of H2 (m^3)\n",
    "I_H2 = pulp.LpVariable.dicts('I_H2',\n",
    "                          [str(i) for i in input_df.index],\n",
    "                          lowBound=0,\n",
    "                          cat='Continuous')\n",
    "# Number of electrolyzers\n",
    "N_electrolyzer = pulp.LpVariable('N_electrolyzer',\n",
    "                          lowBound=0,\n",
    "                          cat='Integer')\n",
    "# alpha_n = 1 if N_electrolyzer = n, 0 otherwise\n",
    "alpha = pulp.LpVariable.dicts('alpha',\n",
    "                          [str(i) for i in range(1, N_max)],\n",
    "                          cat='Binary')\n",
    "# NG flow (m^3/h)\n",
    "NG = pulp.LpVariable.dicts('NG',\n",
    "                          [str(i) for i in input_df.index],\n",
    "                          lowBound=0,\n",
    "                          cat='Continuous')\n",
    "\n",
    "# Emission variables (tonnes CO2/yr)\n",
    "em_offset = pulp.LpVariable('em_offset',\n",
    "                          lowBound=0,\n",
    "                          cat='Continuous')\n",
    "em_rng = pulp.LpVariable('em_rng',\n",
    "                          lowBound=0,\n",
    "                          cat='Continuous')\n",
    "em_heng = pulp.LpVariable('em_heng',\n",
    "                          lowBound=0,\n",
    "                          cat='Continuous')\n",
    "em_ng = pulp.LpVariable('em_ng',\n",
    "                          lowBound=0,\n",
    "                          cat='Continuous')\n",
    "em_electrolyzer = pulp.LpVariable('em_electrolyzer',\n",
    "                          lowBound=0,\n",
    "                          cat='Continuous')\n",
    "em_booster_comp = pulp.LpVariable('em_booster_comp',\n",
    "                          lowBound=0,\n",
    "                          cat='Continuous')\n",
    "em_pre_comp = pulp.LpVariable('em_pre_comp',\n",
    "                          lowBound=0,\n",
    "                          cat='Continuous')\n",
    "em_smr = pulp.LpVariable('em_smr',\n",
    "                          lowBound=0,\n",
    "                          cat='Continuous')\n",
    "em_sbg = pulp.LpVariable('em_sbg',\n",
    "                          lowBound=0,\n",
    "                          cat='Continuous')\n",
    "\n",
    "# Electrolyzer CAPEX ($)\n",
    "CAPEX_electrolyzer = pulp.LpVariable('CAPEX_Electrolyzer', lowBound=0, cat='Continuous')\n",
    "# Reactor CAPEX ($)\n",
    "CAPEX_reactor = pulp.LpVariable('CAPEX_reactor', lowBound=0, cat='Continuous')\n",
    "# Tank + prestorage comp CAPEX ($)\n",
    "CAPEX_storage = pulp.LpVariable('CAPEX_storage', lowBound=0, cat='Continuous')\n",
    "# Booster compressor CAPEX ($)\n",
    "CAPEX_booster_comp = pulp.LpVariable('CAPEX_booster_comp', lowBound=0, cat='Continuous')\n",
    "\n",
    "# SBG treatment OPEX (electrolyzer + prestorage + tank) ($/yr)\n",
    "OPEX_SBG = pulp.LpVariable('OPEX_SBG', lowBound=0, cat='Continuous')\n",
    "# Reactor OPEX ($/yr)\n",
    "OPEX_reactor = pulp.LpVariable('OPEX_reactor', lowBound=0, cat='Continuous')\n",
    "# Booster compressor OPEX ($/yr)\n",
    "OPEX_booster_comp = pulp.LpVariable('OPEX_booster_comp', lowBound=0, cat='Continuous')\n",
    "\n",
    "# Total cost\n",
    "total_cost = pulp.LpVariable('OPEX_booster_comp', lowBound=0, cat='Continuous')\n",
    "\n",
    "\n",
    "for LP in [LP_eps, LP_cost]:\n",
    "    for i, h in enumerate([str(i) for i in input_df.index]):\n",
    "        # Energy and flow constraints\n",
    "        LP += H2_direct[h] + H2_tank_in[h] == E[h] * E_HHV_H2 ** (-1)\n",
    "        LP += H2_direct[h] + H2_tank_out[h] == H2_1[h] + H2_2[h] + H2_3[h] + H2_4[h]\n",
    "\n",
    "        # Hydrogen storage tank constraint\n",
    "        if h == '0':\n",
    "            LP += I_H2[h] == I_min * N_tank + H2_tank_in[h] - H2_tank_out[h]\n",
    "        else:\n",
    "            LP += I_H2[h] == I_H2[str(i - 1)] + H2_tank_in[h] - H2_tank_out[h]\n",
    "        LP += I_H2[h] <= I_max * N_tank\n",
    "        LP += I_H2[h] >= I_min * N_tank\n",
    "\n",
    "        # Prestorage compressor capacity constraint\n",
    "        LP += H2_tank_in[h] <= N_prestorage * F_max_prestorage\n",
    "\n",
    "        # Reactor constraints\n",
    "        if h == '0':\n",
    "            LP += RNG_max <= CO2_available\n",
    "        LP += RNG[h] == nu_reactor * H2_1[h] * HHV_H2 / HHV_NG\n",
    "        LP += CO2[h] == RNG[h]\n",
    "\n",
    "        # NG demand constraint\n",
    "        LP += NG_demand[i] == RNG[h] + NG[h] + H2_2[h]\n",
    "\n",
    "        # Mobility demand constraint\n",
    "        LP += H2_3[h] == mobility_demand[i]\n",
    "\n",
    "        # Industry demand constraint\n",
    "        LP += H2_4[h] == industry_demand[i]\n",
    "\n",
    "        # Supply constraint\n",
    "        LP += E[h] <= SBG[i]\n",
    "\n",
    "        # Booster compressor capcity constraint (mobility)\n",
    "        LP += H2_3[h] <= N_booster * F_max_booster\n",
    "\n",
    "        # Electrolyzer constraints\n",
    "        LP += N_electrolyzer * E_electrolyzer_min <= E[h]\n",
    "        LP += N_electrolyzer * E_electrolyzer_max >= E[h]\n",
    "\n",
    "        # Reactor constraints\n",
    "        LP += RNG[h] <= RNG_max\n",
    "        if h != '0':\n",
    "            LP += -RNG_max * tau <= RNG[h] - RNG[str(i - 1)]\n",
    "            LP += RNG_max * tau >= RNG[h] - RNG[str(i - 1)]\n",
    "\n",
    "        # NG component constraints\n",
    "        LP += 0.90 * RNG[h] <= 0.10 * (NG[h] + H2_2[h])\n",
    "        LP += 0.95 * H2_2[h] <= 0.05 * (NG[h] + RNG[h])\n",
    "\n",
    "    # Integer constraints\n",
    "    LP += pulp.lpSum(n * alpha[str(n)] for n in range(1, N_max)) == N_electrolyzer\n",
    "    LP += pulp.lpSum(alpha) <= 1\n",
    "\n",
    "    # Emission constraints\n",
    "    LP += pulp.lpSum(EMF_comb * RNG[h] + EMF_bio * CO2[h] + EMF_reactor * RNG[h] \\\n",
    "                     for h in [str(x) for x in input_df.index]) == em_rng\n",
    "    LP += pulp.lpSum(EMF_NG * NG[h] for h in [str(x) for x in input_df.index]) == em_heng\n",
    "    LP += pulp.lpSum(EMF_NG * NG_demand[h] for h in input_df.index) == em_ng\n",
    "    em_gas_vehicle = num_vehicle * FCV_penetration * EMF_vehicle\n",
    "    LP += pulp.lpSum(EMF_SMR * industry_demand[h] for h in input_df.index) == em_smr\n",
    "    LP += pulp.lpSum(EMF[int(h)] * (E[h]) for h in [str(x) for x in input_df.index]) == em_sbg\n",
    "    LP += pulp.lpSum(EMF_electrolyzer * (H2_direct[h] + H2_tank_in[h]) \\\n",
    "                     for h in [str(x) for x in input_df.index]) == em_electrolyzer\n",
    "    LP += pulp.lpSum(EMF[n] * ECF_booster * H2_3[h] for n in input_df.index) == em_booster_comp\n",
    "    LP += pulp.lpSum(EMF[n] * ECF_prestorage * H2_tank_in[str(n)] for n in input_df.index) == em_pre_comp\n",
    "\n",
    "\"\"\"\n",
    "Emission objective model\n",
    "\"\"\"\n",
    "\n",
    "LP_eps += em_ng + em_gas_vehicle + em_smr - \\\n",
    "          (em_rng + em_heng  + em_sbg + em_electrolyzer + em_booster_comp + em_pre_comp), 'Offset'\n",
    "LP_eps.solve()\n",
    "print(LP_eps.status)\n",
    "offset_max = LP_eps.objective.value()"
   ]
  },
  {
   "cell_type": "code",
   "execution_count": null,
   "metadata": {
    "scrolled": true
   },
   "outputs": [],
   "source": [
    "print(N_electrolyzer.value())\n",
    "print(N_booster.value())\n",
    "print(N_prestorage.value())\n",
    "print(N_tank.value())\n",
    "print(LP_eps.objective.value())"
   ]
  },
  {
   "cell_type": "code",
   "execution_count": null,
   "metadata": {},
   "outputs": [],
   "source": [
    "\"\"\"\n",
    "Cost objective model\n",
    "\"\"\"\n",
    "\n",
    "# CAPEX electrolyzer\n",
    "C_electrolyzer = [beta * C_0 * i ** mu for i in range(1, N_max)]\n",
    "LP_cost += pulp.lpSum(alpha[str(n)] * C_electrolyzer[n - 1] for n in range(1, N_max)) \\\n",
    "           == CAPEX_electrolyzer\n",
    "\n",
    "# CAPEX reactor (RNG)\n",
    "LP_cost += gamma * RNG_max + k * alpha_RNG + C_upgrading * RNG_max == CAPEX_reactor\n",
    "LP_cost += alpha_RNG <= RNG_max * 10E10\n",
    "LP_cost += alpha_RNG >= RNG_max * 10E-10\n",
    "\n",
    "# CAPEX booster compressor (Mobility)\n",
    "LP_cost += N_booster * CAPEX_booster * 20 == CAPEX_booster_comp\n",
    "\n",
    "# CAPEX storage\n",
    "LP_cost += (N_tank * CAPEX_tank + N_prestorage * CAPEX_prestorage) * 20 == CAPEX_storage\n",
    "\n",
    "# OPEX SBG (electrolyzer + prestorage + tank)\n",
    "LP_cost += pulp.lpSum(E[str(n)] * (HOEP[n] + TC) for n in input_df.index) + \\\n",
    "           pulp.lpSum((H2_direct[str(n)] + H2_tank_in[str(n)]) * C_H2O * WCR for n in input_df.index) + \\\n",
    "           pulp.lpSum(ECF_prestorage * H2_tank_in[str(n)] for n in input_df.index) == OPEX_SBG\n",
    "\n",
    "# OPEX reactor\n",
    "LP_cost += pulp.lpSum(CO2[str(n)] * C_CO2 for n in input_df.index) + \\\n",
    "           OPEX_upgrading * RNG_max == OPEX_reactor\n",
    "\n",
    "# OPEX booster comp\n",
    "LP_cost += pulp.lpSum(ECF_booster * H2_3[str(n)] * (HOEP[n] + TC) for n in input_df.index) \\\n",
    "           == OPEX_booster_comp\n",
    "\n",
    "# Cost LP Objective\n",
    "phi = 0.80\n",
    "LP_cost += em_ng + em_gas_vehicle + em_smr - \\\n",
    "           (em_rng + em_heng  + em_sbg + em_electrolyzer + em_booster_comp + em_pre_comp) \\\n",
    "           == em_offset\n",
    "LP_cost += em_offset >= phi * offset_max\n",
    "LP_cost += (CAPEX_electrolyzer + CAPEX_reactor + CAPEX_booster_comp + CAPEX_storage) + \\\n",
    "           (OPEX_reactor + OPEX_booster_comp + OPEX_SBG) * TVM == total_cost\n",
    "LP_cost += total_cost, 'Cost'\n",
    "LP_cost.solve()\n",
    "print(LP_cost.status)"
   ]
  },
  {
   "cell_type": "code",
   "execution_count": null,
   "metadata": {},
   "outputs": [],
   "source": [
    "print(LP_cost.status)\n",
    "print(N_electrolyzer.value())\n",
    "print(N_booster.value())\n",
    "print(N_prestorage.value())\n",
    "print(N_tank.value())\n",
    "print(LP_cost.objective.value())"
   ]
  },
  {
   "cell_type": "code",
   "execution_count": null,
   "metadata": {},
   "outputs": [],
   "source": [
    "import pandas as pd\n",
    "\n",
    "var_list = [(v.name, v.varValue) for v in LP_cost.variables()]\n",
    "var_list = [('LP_status', LP_cost.status), ('phi', phi), ('offset_max', offset_max)]\n",
    "var_df = pd.DataFrame(var_list, columns=['variable', 'value'])\n",
    "var_df.to_csv('combined_result_' + str(phi) + '.csv')"
   ]
  }
 ],
 "metadata": {
  "kernelspec": {
   "display_name": "Python 3",
   "language": "python",
   "name": "python3"
  },
  "language_info": {
   "codemirror_mode": {
    "name": "ipython",
    "version": 3
   },
   "file_extension": ".py",
   "mimetype": "text/x-python",
   "name": "python",
   "nbconvert_exporter": "python",
   "pygments_lexer": "ipython3",
   "version": "3.7.0"
  }
 },
 "nbformat": 4,
 "nbformat_minor": 2
}
